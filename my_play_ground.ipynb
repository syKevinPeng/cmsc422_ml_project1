{
 "cells": [
  {
   "cell_type": "code",
   "execution_count": 2,
   "metadata": {
    "collapsed": true
   },
   "outputs": [],
   "source": [
    "import os\n",
    "os.chdir(\"E:/Study/cmsc422/cmsc422_ml_project1\")"
   ]
  },
  {
   "cell_type": "code",
   "execution_count": 3,
   "outputs": [
    {
     "data": {
      "text/plain": "'E:\\\\Study\\\\cmsc422\\\\cmsc422_ml_project1'"
     },
     "execution_count": 3,
     "metadata": {},
     "output_type": "execute_result"
    }
   ],
   "source": [
    "os.getcwd()"
   ],
   "metadata": {
    "collapsed": false,
    "pycharm": {
     "name": "#%%\n"
    }
   }
  },
  {
   "cell_type": "code",
   "execution_count": 3,
   "outputs": [],
   "source": [
    "import numpy as np\n",
    "import util, datasets, binary, dumbClassifiers\n",
    "import runClassifier, knn"
   ],
   "metadata": {
    "collapsed": false,
    "pycharm": {
     "name": "#%%\n"
    }
   }
  },
  {
   "cell_type": "code",
   "execution_count": 5,
   "outputs": [
    {
     "data": {
      "text/plain": "AlwaysPredictOne"
     },
     "execution_count": 5,
     "metadata": {},
     "output_type": "execute_result"
    }
   ],
   "source": [
    "h = dumbClassifiers.AlwaysPredictOne({})\n",
    "h\n"
   ],
   "metadata": {
    "collapsed": false,
    "pycharm": {
     "name": "#%%\n"
    }
   }
  },
  {
   "cell_type": "code",
   "execution_count": 13,
   "outputs": [
    {
     "data": {
      "text/plain": "numpy.ndarray"
     },
     "execution_count": 13,
     "metadata": {},
     "output_type": "execute_result"
    }
   ],
   "source": [
    "h.train(datasets.TennisData.X,datasets.TennisData.Y)\n",
    "type(h.predictAll(datasets.TennisData.X))"
   ],
   "metadata": {
    "collapsed": false,
    "pycharm": {
     "name": "#%%\n"
    }
   }
  },
  {
   "cell_type": "code",
   "execution_count": 21,
   "outputs": [
    {
     "data": {
      "text/plain": "array([False, False,  True,  True,  True, False,  True, False,  True,\n        True,  True,  True,  True, False])"
     },
     "execution_count": 21,
     "metadata": {},
     "output_type": "execute_result"
    }
   ],
   "source": [
    "(datasets.TennisData.Y > 0)"
   ],
   "metadata": {
    "collapsed": false,
    "pycharm": {
     "name": "#%%\n"
    }
   }
  },
  {
   "cell_type": "code",
   "execution_count": 20,
   "outputs": [
    {
     "data": {
      "text/plain": "0.6428571428571429"
     },
     "execution_count": 20,
     "metadata": {},
     "output_type": "execute_result"
    }
   ],
   "source": [
    "np.mean((datasets.TennisData.Y > 0) == (h.predictAll(datasets.TennisData.X) > 0))\n",
    "\n"
   ],
   "metadata": {
    "collapsed": false,
    "pycharm": {
     "name": "#%%\n"
    }
   }
  },
  {
   "cell_type": "code",
   "execution_count": null,
   "outputs": [],
   "source": [
    "first_feature = dumbClassifiers.FirstFeatureClassifier({})\n",
    "first_feature.train(datasets.TennisData.X,datasets.TennisData.Y)\n"
   ],
   "metadata": {
    "collapsed": false,
    "pycharm": {
     "name": "#%%\n"
    }
   }
  },
  {
   "cell_type": "code",
   "execution_count": null,
   "outputs": [],
   "source": [
    "runClassifier.trainTestSet(dumbClassifiers.FirstFeatureClassifier({}), datasets.TennisData)\n",
    "\n",
    "\n",
    "\n"
   ],
   "metadata": {
    "collapsed": false,
    "pycharm": {
     "name": "#%%\n"
    }
   }
  },
  {
   "cell_type": "code",
   "execution_count": null,
   "outputs": [],
   "source": [
    "runClassifier.trainTestSet(dumbClassifiers.FirstFeatureClassifier({}), datasets.SentimentData)"
   ],
   "metadata": {
    "collapsed": false,
    "pycharm": {
     "name": "#%%\n"
    }
   }
  },
  {
   "cell_type": "markdown",
   "source": [
    "KNN"
   ],
   "metadata": {
    "collapsed": false
   }
  },
  {
   "cell_type": "code",
   "execution_count": null,
   "outputs": [],
   "source": [
    "runClassifier.trainTestSet(knn.KNN({'isKNN': False, 'eps': 0.5}), datasets.TennisData)"
   ],
   "metadata": {
    "collapsed": false,
    "pycharm": {
     "name": "#%%\n"
    }
   }
  },
  {
   "cell_type": "code",
   "execution_count": null,
   "outputs": [],
   "source": [
    "runClassifier.trainTestSet(knn.KNN({'isKNN': False, 'eps': 1.0}), datasets.TennisData)"
   ],
   "metadata": {
    "collapsed": false,
    "pycharm": {
     "name": "#%%\n"
    }
   }
  },
  {
   "cell_type": "code",
   "execution_count": null,
   "outputs": [],
   "source": [
    "runClassifier.trainTestSet(knn.KNN({'isKNN': False, 'eps': 2.0}), datasets.TennisData)"
   ],
   "metadata": {
    "collapsed": false,
    "pycharm": {
     "name": "#%%\n"
    }
   }
  },
  {
   "cell_type": "markdown",
   "source": [
    "Generating graph for WU4"
   ],
   "metadata": {
    "collapsed": false,
    "pycharm": {
     "name": "#%% md\n"
    }
   }
  },
  {
   "cell_type": "code",
   "execution_count": 2,
   "outputs": [],
   "source": [
    "import numpy as np\n",
    "import util, datasets, binary, dumbClassifiers\n",
    "import runClassifier, knn"
   ],
   "metadata": {
    "collapsed": false,
    "pycharm": {
     "name": "#%%\n"
    }
   }
  },
  {
   "cell_type": "code",
   "execution_count": 3,
   "outputs": [
    {
     "name": "stdout",
     "output_type": "stream",
     "text": [
      "Training accuracy 0.96, test accuracy 0.64\n"
     ]
    },
    {
     "data": {
      "text/plain": "(0.96,\n 0.64,\n array([27.,  0.,  0., 22., 23., 20.,  0., -1.,  0., -1.,  0., 21.,  0.,\n         0., -1.,  0., 25.,  0., 21., 20., 17., -1.,  0., 17., 21.,  0.,\n         0.,  0., 27., 18.,  4., 22.,  0., 22., 22., 28., 15., -3., 22.,\n         0., 27., 23., 20., 10., 18., 23., 21.,  0.,  1.,  0.,  3., -2.,\n        23., -1.,  0., 23.,  4., 25., 22., 21., 19.,  0., 18., 24.,  0.,\n        -1., 22.,  0., -1., 20.,  0., -1.,  7.,  0., -2.,  0.,  0., 11.,\n         0., 22., -1., -1.,  0.,  0.,  0.,  0.,  0., 23.,  0.,  0., 18.,\n        14., -1.,  0.,  0.,  0., 21.,  0., 23., 20.]))"
     },
     "execution_count": 3,
     "metadata": {},
     "output_type": "execute_result"
    }
   ],
   "source": [
    "eps_curve_6= runClassifier.trainTestSet(knn.KNN({'isKNN': False, 'eps': 6}), datasets.DigitData)\n",
    "eps_curve_6\n",
    "# runClassifier.plotCurve('epsilon-balls_6', eps_curve_6)\n",
    "# eps_curve_8= runClassifier.trainTestSet(knn.KNN({'isKNN': False, 'eps': 8}), datasets.DigitData)\n",
    "# runClassifier.plotCurve('epsilon-balls_8', eps_curve_8)\n",
    "# eps_curve_10= runClassifier.trainTestSet(knn.KNN({'isKNN': False, 'eps': 10}), datasets.DigitData)\n",
    "# runClassifier.plotCurve('epsilon-balls_10', eps_curve_10)"
   ],
   "metadata": {
    "collapsed": false,
    "pycharm": {
     "name": "#%%\n"
    }
   }
  },
  {
   "cell_type": "code",
   "execution_count": 5,
   "outputs": [
    {
     "name": "stdout",
     "output_type": "stream",
     "text": [
      "Training accuracy 1, test accuracy 0.94\n"
     ]
    },
    {
     "ename": "TypeError",
     "evalue": "'NoneType' object is not subscriptable",
     "output_type": "error",
     "traceback": [
      "\u001B[1;31m---------------------------------------------------------------------------\u001B[0m",
      "\u001B[1;31mTypeError\u001B[0m                                 Traceback (most recent call last)",
      "\u001B[1;32m<ipython-input-5-6e3abb219d25>\u001B[0m in \u001B[0;36m<module>\u001B[1;34m\u001B[0m\n\u001B[0;32m      1\u001B[0m \u001B[0mknn_curve_1\u001B[0m\u001B[1;33m=\u001B[0m \u001B[0mrunClassifier\u001B[0m\u001B[1;33m.\u001B[0m\u001B[0mtrainTestSet\u001B[0m\u001B[1;33m(\u001B[0m\u001B[0mknn\u001B[0m\u001B[1;33m.\u001B[0m\u001B[0mKNN\u001B[0m\u001B[1;33m(\u001B[0m\u001B[1;33m{\u001B[0m\u001B[1;34m'isKNN'\u001B[0m\u001B[1;33m:\u001B[0m \u001B[1;32mTrue\u001B[0m\u001B[1;33m,\u001B[0m \u001B[1;34m'K'\u001B[0m\u001B[1;33m:\u001B[0m \u001B[1;36m1\u001B[0m\u001B[1;33m}\u001B[0m\u001B[1;33m)\u001B[0m\u001B[1;33m,\u001B[0m \u001B[0mdatasets\u001B[0m\u001B[1;33m.\u001B[0m\u001B[0mDigitData\u001B[0m\u001B[1;33m)\u001B[0m\u001B[1;33m\u001B[0m\u001B[1;33m\u001B[0m\u001B[0m\n\u001B[1;32m----> 2\u001B[1;33m \u001B[0mrunClassifier\u001B[0m\u001B[1;33m.\u001B[0m\u001B[0mplotCurve\u001B[0m\u001B[1;33m(\u001B[0m\u001B[1;34m'knn_1'\u001B[0m\u001B[1;33m,\u001B[0m \u001B[0mknn_curve_1\u001B[0m\u001B[1;33m)\u001B[0m\u001B[1;33m\u001B[0m\u001B[1;33m\u001B[0m\u001B[0m\n\u001B[0m\u001B[0;32m      3\u001B[0m \u001B[0mknn_curve_3\u001B[0m\u001B[1;33m=\u001B[0m \u001B[0mrunClassifier\u001B[0m\u001B[1;33m.\u001B[0m\u001B[0mtrainTestSet\u001B[0m\u001B[1;33m(\u001B[0m\u001B[0mknn\u001B[0m\u001B[1;33m.\u001B[0m\u001B[0mKNN\u001B[0m\u001B[1;33m(\u001B[0m\u001B[1;33m{\u001B[0m\u001B[1;34m'isKNN'\u001B[0m\u001B[1;33m:\u001B[0m \u001B[1;32mTrue\u001B[0m\u001B[1;33m,\u001B[0m \u001B[1;34m'K'\u001B[0m\u001B[1;33m:\u001B[0m \u001B[1;36m3\u001B[0m\u001B[1;33m}\u001B[0m\u001B[1;33m)\u001B[0m\u001B[1;33m,\u001B[0m \u001B[0mdatasets\u001B[0m\u001B[1;33m.\u001B[0m\u001B[0mDigitData\u001B[0m\u001B[1;33m)\u001B[0m\u001B[1;33m\u001B[0m\u001B[1;33m\u001B[0m\u001B[0m\n\u001B[0;32m      4\u001B[0m \u001B[0mrunClassifier\u001B[0m\u001B[1;33m.\u001B[0m\u001B[0mplotCurve\u001B[0m\u001B[1;33m(\u001B[0m\u001B[1;34m'knn_3'\u001B[0m\u001B[1;33m,\u001B[0m \u001B[0mknn_curve_3\u001B[0m\u001B[1;33m)\u001B[0m\u001B[1;33m\u001B[0m\u001B[1;33m\u001B[0m\u001B[0m\n\u001B[0;32m      5\u001B[0m \u001B[0mknn_curve_5\u001B[0m\u001B[1;33m=\u001B[0m \u001B[0mrunClassifier\u001B[0m\u001B[1;33m.\u001B[0m\u001B[0mtrainTestSet\u001B[0m\u001B[1;33m(\u001B[0m\u001B[0mknn\u001B[0m\u001B[1;33m.\u001B[0m\u001B[0mKNN\u001B[0m\u001B[1;33m(\u001B[0m\u001B[1;33m{\u001B[0m\u001B[1;34m'isKNN'\u001B[0m\u001B[1;33m:\u001B[0m \u001B[1;32mTrue\u001B[0m\u001B[1;33m,\u001B[0m \u001B[1;34m'K'\u001B[0m\u001B[1;33m:\u001B[0m \u001B[1;36m5\u001B[0m\u001B[1;33m}\u001B[0m\u001B[1;33m)\u001B[0m\u001B[1;33m,\u001B[0m \u001B[0mdatasets\u001B[0m\u001B[1;33m.\u001B[0m\u001B[0mDigitData\u001B[0m\u001B[1;33m)\u001B[0m\u001B[1;33m\u001B[0m\u001B[1;33m\u001B[0m\u001B[0m\n",
      "\u001B[1;32mE:\\Study\\cmsc422\\cmsc422_ml_project1\\runClassifier.py\u001B[0m in \u001B[0;36mplotCurve\u001B[1;34m(titleString, res)\u001B[0m\n\u001B[0;32m    102\u001B[0m \u001B[1;32mdef\u001B[0m \u001B[0mplotCurve\u001B[0m\u001B[1;33m(\u001B[0m\u001B[0mtitleString\u001B[0m\u001B[1;33m,\u001B[0m \u001B[0mres\u001B[0m\u001B[1;33m)\u001B[0m\u001B[1;33m:\u001B[0m\u001B[1;33m\u001B[0m\u001B[1;33m\u001B[0m\u001B[0m\n\u001B[0;32m    103\u001B[0m     \u001B[0mfig\u001B[0m\u001B[1;33m,\u001B[0m \u001B[0max\u001B[0m \u001B[1;33m=\u001B[0m \u001B[0mplt\u001B[0m\u001B[1;33m.\u001B[0m\u001B[0msubplots\u001B[0m\u001B[1;33m(\u001B[0m\u001B[1;33m)\u001B[0m\u001B[1;33m\u001B[0m\u001B[1;33m\u001B[0m\u001B[0m\n\u001B[1;32m--> 104\u001B[1;33m     ax.plot(res[0], res[1], 'b-',\n\u001B[0m\u001B[0;32m    105\u001B[0m          res[0], res[2], 'r-')\n\u001B[0;32m    106\u001B[0m     \u001B[0max\u001B[0m\u001B[1;33m.\u001B[0m\u001B[0mlegend\u001B[0m\u001B[1;33m(\u001B[0m \u001B[1;33m(\u001B[0m\u001B[1;34m'Train'\u001B[0m\u001B[1;33m,\u001B[0m \u001B[1;34m'Test'\u001B[0m\u001B[1;33m)\u001B[0m \u001B[1;33m)\u001B[0m\u001B[1;33m\u001B[0m\u001B[1;33m\u001B[0m\u001B[0m\n",
      "\u001B[1;31mTypeError\u001B[0m: 'NoneType' object is not subscriptable"
     ]
    },
    {
     "data": {
      "text/plain": "<Figure size 432x288 with 1 Axes>",
      "image/png": "[encoded data removed]"
     },
     "metadata": {
      "needs_background": "light"
     },
     "output_type": "display_data"
    }
   ],
   "source": [
    "knn_curve_1= runClassifier.learningCurveSet(knn.KNN({'isKNN': True, 'K': 1}), datasets.DigitData)\n",
    "runClassifier.plotCurve('knn_1', knn_curve_1)\n",
    "knn_curve_3= runClassifier.learningCurveSet(knn.KNN({'isKNN': True, 'K': 3}), datasets.DigitData)\n",
    "runClassifier.plotCurve('knn_3', knn_curve_3)\n",
    "knn_curve_5= runClassifier.learningCurveSet(knn.KNN({'isKNN': True, 'K': 5}), datasets.DigitData)\n",
    "runClassifier.plotCurve('knn_5', knn_curve_5)"
   ],
   "metadata": {
    "collapsed": false,
    "pycharm": {
     "name": "#%%\n"
    }
   }
  },
  {
   "cell_type": "code",
   "execution_count": null,
   "outputs": [],
   "source": [
    "knn_curve_5= runClassifier.learningCurveSet(knn.KNN({'isKNN': True, 'K': 5}), datasets.DigitData)\n",
    "runClassifier.plotCurve('learning_curve_knn_5', knn_curve_5)"
   ],
   "metadata": {
    "collapsed": false,
    "pycharm": {
     "name": "#%%\n"
    }
   }
  },
  {
   "cell_type": "code",
   "execution_count": 8,
   "outputs": [
    {
     "data": {
      "text/plain": "(100, 784)"
     },
     "execution_count": 8,
     "metadata": {},
     "output_type": "execute_result"
    }
   ],
   "source": [
    "datasets.DigitData.X.shape"
   ],
   "metadata": {
    "collapsed": false,
    "pycharm": {
     "name": "#%%\n"
    }
   }
  },
  {
   "cell_type": "code",
   "execution_count": null,
   "outputs": [],
   "source": [],
   "metadata": {
    "collapsed": false,
    "pycharm": {
     "name": "#%%\n"
    }
   }
  }
 ],
 "metadata": {
  "kernelspec": {
   "name": "pycharm-4f7278ab",
   "language": "python",
   "display_name": "PyCharm (cmsc472)"
  },
  "language_info": {
   "codemirror_mode": {
    "name": "ipython",
    "version": 2
   },
   "file_extension": ".py",
   "mimetype": "text/x-python",
   "name": "python",
   "nbconvert_exporter": "python",
   "pygments_lexer": "ipython2",
   "version": "2.7.6"
  }
 },
 "nbformat": 4,
 "nbformat_minor": 0
}